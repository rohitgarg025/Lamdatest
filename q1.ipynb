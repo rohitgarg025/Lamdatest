{
  "nbformat": 4,
  "nbformat_minor": 0,
  "metadata": {
    "colab": {
      "name": "q1.ipynb",
      "provenance": [],
      "collapsed_sections": []
    },
    "kernelspec": {
      "name": "python3",
      "display_name": "Python 3"
    },
    "language_info": {
      "name": "python"
    }
  },
  "cells": [
    {
      "cell_type": "code",
      "metadata": {
        "colab": {
          "base_uri": "https://localhost:8080/"
        },
        "id": "GpPFsiSrzh1H",
        "outputId": "77b9907b-5041-4768-d505-9999e69848a5"
      },
      "source": [
        "# from google.colab import drive\n",
        "# drive.mount('/gdrive',force_remount=True)"
      ],
      "execution_count": 1,
      "outputs": [
        {
          "output_type": "stream",
          "text": [
            "Mounted at /gdrive\n"
          ],
          "name": "stdout"
        }
      ]
    },
    {
      "cell_type": "code",
      "metadata": {
        "colab": {
          "base_uri": "https://localhost:8080/"
        },
        "id": "TPTY71H60Exi",
        "outputId": "5f0b5844-6488-4f64-e297-e172d3667de0"
      },
      "source": [
        "# %cd /gdrive/MyDrive/Lambdatest"
      ],
      "execution_count": 2,
      "outputs": [
        {
          "output_type": "stream",
          "text": [
            "/gdrive/MyDrive/Lambdatest\n"
          ],
          "name": "stdout"
        }
      ]
    },
    {
      "cell_type": "code",
      "metadata": {
        "id": "mmmrJ-gW0GO4"
      },
      "source": [
        "import matplotlib.pyplot as plt\n",
        "%matplotlib inline\n",
        "import seaborn as sns\n",
        "import copy\n",
        "import os\n",
        "from scipy import io,signal\n",
        "import numpy as np\n",
        "import pandas as pd\n",
        "import pickle\n",
        "import sys\n",
        "import copy\n",
        "import seaborn as sns\n",
        "from sklearn.model_selection import train_test_split"
      ],
      "execution_count": 3,
      "outputs": []
    },
    {
      "cell_type": "code",
      "metadata": {
        "id": "NsqKESkZ0TqW"
      },
      "source": [
        "train_data = pd.read_csv(\"train_data.csv\") \n",
        "test_data = pd.read_csv(\"test_data.csv\") \n",
        "dataset_desc = pd.read_csv(\"train_data_dictionary.csv\")"
      ],
      "execution_count": 4,
      "outputs": []
    },
    {
      "cell_type": "code",
      "metadata": {
        "colab": {
          "base_uri": "https://localhost:8080/",
          "height": 575
        },
        "id": "zoJO1pHi47ft",
        "outputId": "62e29c07-2b2b-4815-9338-1b2687c1841d"
      },
      "source": [
        "dataset_desc"
      ],
      "execution_count": 5,
      "outputs": [
        {
          "output_type": "execute_result",
          "data": {
            "text/html": [
              "<div>\n",
              "<style scoped>\n",
              "    .dataframe tbody tr th:only-of-type {\n",
              "        vertical-align: middle;\n",
              "    }\n",
              "\n",
              "    .dataframe tbody tr th {\n",
              "        vertical-align: top;\n",
              "    }\n",
              "\n",
              "    .dataframe thead th {\n",
              "        text-align: right;\n",
              "    }\n",
              "</style>\n",
              "<table border=\"1\" class=\"dataframe\">\n",
              "  <thead>\n",
              "    <tr style=\"text-align: right;\">\n",
              "      <th></th>\n",
              "      <th>Column</th>\n",
              "      <th>Description</th>\n",
              "    </tr>\n",
              "  </thead>\n",
              "  <tbody>\n",
              "    <tr>\n",
              "      <th>0</th>\n",
              "      <td>case_id</td>\n",
              "      <td>Case_ID registered in Hospital</td>\n",
              "    </tr>\n",
              "    <tr>\n",
              "      <th>1</th>\n",
              "      <td>Hospital_code</td>\n",
              "      <td>Unique code for the Hospital</td>\n",
              "    </tr>\n",
              "    <tr>\n",
              "      <th>2</th>\n",
              "      <td>Hospital_type_code</td>\n",
              "      <td>Unique code for the type of Hospital</td>\n",
              "    </tr>\n",
              "    <tr>\n",
              "      <th>3</th>\n",
              "      <td>City_Code_Hospital</td>\n",
              "      <td>City Code of the Hospital</td>\n",
              "    </tr>\n",
              "    <tr>\n",
              "      <th>4</th>\n",
              "      <td>Hospital_region_code</td>\n",
              "      <td>Region Code of the Hospital</td>\n",
              "    </tr>\n",
              "    <tr>\n",
              "      <th>5</th>\n",
              "      <td>Available Extra Rooms in Hospital</td>\n",
              "      <td>Number of Extra rooms available in the Hospital</td>\n",
              "    </tr>\n",
              "    <tr>\n",
              "      <th>6</th>\n",
              "      <td>Department</td>\n",
              "      <td>Department overlooking the case</td>\n",
              "    </tr>\n",
              "    <tr>\n",
              "      <th>7</th>\n",
              "      <td>Ward_Type</td>\n",
              "      <td>Code for the Ward type</td>\n",
              "    </tr>\n",
              "    <tr>\n",
              "      <th>8</th>\n",
              "      <td>Ward_Facility_Code</td>\n",
              "      <td>Code for the Ward Facility</td>\n",
              "    </tr>\n",
              "    <tr>\n",
              "      <th>9</th>\n",
              "      <td>Bed Grade</td>\n",
              "      <td>Condition of Bed in the Ward</td>\n",
              "    </tr>\n",
              "    <tr>\n",
              "      <th>10</th>\n",
              "      <td>patientid</td>\n",
              "      <td>Unique Patient Id</td>\n",
              "    </tr>\n",
              "    <tr>\n",
              "      <th>11</th>\n",
              "      <td>City_Code_Patient</td>\n",
              "      <td>City Code for the patient</td>\n",
              "    </tr>\n",
              "    <tr>\n",
              "      <th>12</th>\n",
              "      <td>Type of Admission</td>\n",
              "      <td>Admission Type registered by the Hospital</td>\n",
              "    </tr>\n",
              "    <tr>\n",
              "      <th>13</th>\n",
              "      <td>Severity of Illness</td>\n",
              "      <td>Severity of the illness recorded at the time o...</td>\n",
              "    </tr>\n",
              "    <tr>\n",
              "      <th>14</th>\n",
              "      <td>Visitors with Patient</td>\n",
              "      <td>Number of Visitors with the patient</td>\n",
              "    </tr>\n",
              "    <tr>\n",
              "      <th>15</th>\n",
              "      <td>Age</td>\n",
              "      <td>Age of the patient</td>\n",
              "    </tr>\n",
              "    <tr>\n",
              "      <th>16</th>\n",
              "      <td>Admission_Deposit</td>\n",
              "      <td>Deposit at the Admission Time</td>\n",
              "    </tr>\n",
              "    <tr>\n",
              "      <th>17</th>\n",
              "      <td>Stay</td>\n",
              "      <td>Stay Days by the patient</td>\n",
              "    </tr>\n",
              "  </tbody>\n",
              "</table>\n",
              "</div>"
            ],
            "text/plain": [
              "                               Column                                        Description\n",
              "0                             case_id                     Case_ID registered in Hospital\n",
              "1                       Hospital_code                       Unique code for the Hospital\n",
              "2                  Hospital_type_code               Unique code for the type of Hospital\n",
              "3                  City_Code_Hospital                          City Code of the Hospital\n",
              "4                Hospital_region_code                        Region Code of the Hospital\n",
              "5   Available Extra Rooms in Hospital    Number of Extra rooms available in the Hospital\n",
              "6                          Department                    Department overlooking the case\n",
              "7                           Ward_Type                             Code for the Ward type\n",
              "8                  Ward_Facility_Code                         Code for the Ward Facility\n",
              "9                           Bed Grade                       Condition of Bed in the Ward\n",
              "10                          patientid                                  Unique Patient Id\n",
              "11                  City_Code_Patient                          City Code for the patient\n",
              "12                  Type of Admission          Admission Type registered by the Hospital\n",
              "13                Severity of Illness  Severity of the illness recorded at the time o...\n",
              "14              Visitors with Patient                Number of Visitors with the patient\n",
              "15                                Age                                 Age of the patient\n",
              "16                  Admission_Deposit                      Deposit at the Admission Time\n",
              "17                               Stay                           Stay Days by the patient"
            ]
          },
          "metadata": {
            "tags": []
          },
          "execution_count": 5
        }
      ]
    },
    {
      "cell_type": "code",
      "metadata": {
        "colab": {
          "base_uri": "https://localhost:8080/",
          "height": 639
        },
        "id": "xJUiSGda3S-3",
        "outputId": "4469ce5e-3792-48a4-a0ee-072f74d7b542"
      },
      "source": [
        "train_data"
      ],
      "execution_count": 6,
      "outputs": [
        {
          "output_type": "execute_result",
          "data": {
            "text/html": [
              "<div>\n",
              "<style scoped>\n",
              "    .dataframe tbody tr th:only-of-type {\n",
              "        vertical-align: middle;\n",
              "    }\n",
              "\n",
              "    .dataframe tbody tr th {\n",
              "        vertical-align: top;\n",
              "    }\n",
              "\n",
              "    .dataframe thead th {\n",
              "        text-align: right;\n",
              "    }\n",
              "</style>\n",
              "<table border=\"1\" class=\"dataframe\">\n",
              "  <thead>\n",
              "    <tr style=\"text-align: right;\">\n",
              "      <th></th>\n",
              "      <th>case_id</th>\n",
              "      <th>Hospital_code</th>\n",
              "      <th>Hospital_type_code</th>\n",
              "      <th>City_Code_Hospital</th>\n",
              "      <th>Hospital_region_code</th>\n",
              "      <th>Available Extra Rooms in Hospital</th>\n",
              "      <th>Department</th>\n",
              "      <th>Ward_Type</th>\n",
              "      <th>Ward_Facility_Code</th>\n",
              "      <th>Bed Grade</th>\n",
              "      <th>patientid</th>\n",
              "      <th>City_Code_Patient</th>\n",
              "      <th>Type of Admission</th>\n",
              "      <th>Severity of Illness</th>\n",
              "      <th>Visitors with Patient</th>\n",
              "      <th>Age</th>\n",
              "      <th>Admission_Deposit</th>\n",
              "      <th>Stay</th>\n",
              "    </tr>\n",
              "  </thead>\n",
              "  <tbody>\n",
              "    <tr>\n",
              "      <th>0</th>\n",
              "      <td>1</td>\n",
              "      <td>8</td>\n",
              "      <td>c</td>\n",
              "      <td>3</td>\n",
              "      <td>Z</td>\n",
              "      <td>3</td>\n",
              "      <td>radiotherapy</td>\n",
              "      <td>R</td>\n",
              "      <td>F</td>\n",
              "      <td>2.0</td>\n",
              "      <td>31397</td>\n",
              "      <td>7.0</td>\n",
              "      <td>Emergency</td>\n",
              "      <td>Extreme</td>\n",
              "      <td>2</td>\n",
              "      <td>51-60</td>\n",
              "      <td>4911.0</td>\n",
              "      <td>0-10</td>\n",
              "    </tr>\n",
              "    <tr>\n",
              "      <th>1</th>\n",
              "      <td>2</td>\n",
              "      <td>2</td>\n",
              "      <td>c</td>\n",
              "      <td>5</td>\n",
              "      <td>Z</td>\n",
              "      <td>2</td>\n",
              "      <td>radiotherapy</td>\n",
              "      <td>S</td>\n",
              "      <td>F</td>\n",
              "      <td>2.0</td>\n",
              "      <td>31397</td>\n",
              "      <td>7.0</td>\n",
              "      <td>Trauma</td>\n",
              "      <td>Extreme</td>\n",
              "      <td>2</td>\n",
              "      <td>51-60</td>\n",
              "      <td>5954.0</td>\n",
              "      <td>41-50</td>\n",
              "    </tr>\n",
              "    <tr>\n",
              "      <th>2</th>\n",
              "      <td>3</td>\n",
              "      <td>10</td>\n",
              "      <td>e</td>\n",
              "      <td>1</td>\n",
              "      <td>X</td>\n",
              "      <td>2</td>\n",
              "      <td>anesthesia</td>\n",
              "      <td>S</td>\n",
              "      <td>E</td>\n",
              "      <td>2.0</td>\n",
              "      <td>31397</td>\n",
              "      <td>7.0</td>\n",
              "      <td>Trauma</td>\n",
              "      <td>Extreme</td>\n",
              "      <td>2</td>\n",
              "      <td>51-60</td>\n",
              "      <td>4745.0</td>\n",
              "      <td>31-40</td>\n",
              "    </tr>\n",
              "    <tr>\n",
              "      <th>3</th>\n",
              "      <td>4</td>\n",
              "      <td>26</td>\n",
              "      <td>b</td>\n",
              "      <td>2</td>\n",
              "      <td>Y</td>\n",
              "      <td>2</td>\n",
              "      <td>radiotherapy</td>\n",
              "      <td>R</td>\n",
              "      <td>D</td>\n",
              "      <td>2.0</td>\n",
              "      <td>31397</td>\n",
              "      <td>7.0</td>\n",
              "      <td>Trauma</td>\n",
              "      <td>Extreme</td>\n",
              "      <td>2</td>\n",
              "      <td>51-60</td>\n",
              "      <td>7272.0</td>\n",
              "      <td>41-50</td>\n",
              "    </tr>\n",
              "    <tr>\n",
              "      <th>4</th>\n",
              "      <td>5</td>\n",
              "      <td>26</td>\n",
              "      <td>b</td>\n",
              "      <td>2</td>\n",
              "      <td>Y</td>\n",
              "      <td>2</td>\n",
              "      <td>radiotherapy</td>\n",
              "      <td>S</td>\n",
              "      <td>D</td>\n",
              "      <td>2.0</td>\n",
              "      <td>31397</td>\n",
              "      <td>7.0</td>\n",
              "      <td>Trauma</td>\n",
              "      <td>Extreme</td>\n",
              "      <td>2</td>\n",
              "      <td>51-60</td>\n",
              "      <td>5558.0</td>\n",
              "      <td>41-50</td>\n",
              "    </tr>\n",
              "    <tr>\n",
              "      <th>...</th>\n",
              "      <td>...</td>\n",
              "      <td>...</td>\n",
              "      <td>...</td>\n",
              "      <td>...</td>\n",
              "      <td>...</td>\n",
              "      <td>...</td>\n",
              "      <td>...</td>\n",
              "      <td>...</td>\n",
              "      <td>...</td>\n",
              "      <td>...</td>\n",
              "      <td>...</td>\n",
              "      <td>...</td>\n",
              "      <td>...</td>\n",
              "      <td>...</td>\n",
              "      <td>...</td>\n",
              "      <td>...</td>\n",
              "      <td>...</td>\n",
              "      <td>...</td>\n",
              "    </tr>\n",
              "    <tr>\n",
              "      <th>318433</th>\n",
              "      <td>318434</td>\n",
              "      <td>6</td>\n",
              "      <td>a</td>\n",
              "      <td>6</td>\n",
              "      <td>X</td>\n",
              "      <td>3</td>\n",
              "      <td>radiotherapy</td>\n",
              "      <td>Q</td>\n",
              "      <td>F</td>\n",
              "      <td>4.0</td>\n",
              "      <td>86499</td>\n",
              "      <td>23.0</td>\n",
              "      <td>Emergency</td>\n",
              "      <td>Moderate</td>\n",
              "      <td>3</td>\n",
              "      <td>41-50</td>\n",
              "      <td>4144.0</td>\n",
              "      <td>11-20</td>\n",
              "    </tr>\n",
              "    <tr>\n",
              "      <th>318434</th>\n",
              "      <td>318435</td>\n",
              "      <td>24</td>\n",
              "      <td>a</td>\n",
              "      <td>1</td>\n",
              "      <td>X</td>\n",
              "      <td>2</td>\n",
              "      <td>anesthesia</td>\n",
              "      <td>Q</td>\n",
              "      <td>E</td>\n",
              "      <td>4.0</td>\n",
              "      <td>325</td>\n",
              "      <td>8.0</td>\n",
              "      <td>Urgent</td>\n",
              "      <td>Moderate</td>\n",
              "      <td>4</td>\n",
              "      <td>81-90</td>\n",
              "      <td>6699.0</td>\n",
              "      <td>31-40</td>\n",
              "    </tr>\n",
              "    <tr>\n",
              "      <th>318435</th>\n",
              "      <td>318436</td>\n",
              "      <td>7</td>\n",
              "      <td>a</td>\n",
              "      <td>4</td>\n",
              "      <td>X</td>\n",
              "      <td>3</td>\n",
              "      <td>gynecology</td>\n",
              "      <td>R</td>\n",
              "      <td>F</td>\n",
              "      <td>4.0</td>\n",
              "      <td>125235</td>\n",
              "      <td>10.0</td>\n",
              "      <td>Emergency</td>\n",
              "      <td>Minor</td>\n",
              "      <td>3</td>\n",
              "      <td>71-80</td>\n",
              "      <td>4235.0</td>\n",
              "      <td>11-20</td>\n",
              "    </tr>\n",
              "    <tr>\n",
              "      <th>318436</th>\n",
              "      <td>318437</td>\n",
              "      <td>11</td>\n",
              "      <td>b</td>\n",
              "      <td>2</td>\n",
              "      <td>Y</td>\n",
              "      <td>3</td>\n",
              "      <td>anesthesia</td>\n",
              "      <td>Q</td>\n",
              "      <td>D</td>\n",
              "      <td>3.0</td>\n",
              "      <td>91081</td>\n",
              "      <td>8.0</td>\n",
              "      <td>Trauma</td>\n",
              "      <td>Minor</td>\n",
              "      <td>5</td>\n",
              "      <td>11-20</td>\n",
              "      <td>3761.0</td>\n",
              "      <td>11-20</td>\n",
              "    </tr>\n",
              "    <tr>\n",
              "      <th>318437</th>\n",
              "      <td>318438</td>\n",
              "      <td>19</td>\n",
              "      <td>a</td>\n",
              "      <td>7</td>\n",
              "      <td>Y</td>\n",
              "      <td>5</td>\n",
              "      <td>gynecology</td>\n",
              "      <td>Q</td>\n",
              "      <td>C</td>\n",
              "      <td>2.0</td>\n",
              "      <td>21641</td>\n",
              "      <td>8.0</td>\n",
              "      <td>Emergency</td>\n",
              "      <td>Minor</td>\n",
              "      <td>2</td>\n",
              "      <td>11-20</td>\n",
              "      <td>4752.0</td>\n",
              "      <td>0-10</td>\n",
              "    </tr>\n",
              "  </tbody>\n",
              "</table>\n",
              "<p>318438 rows × 18 columns</p>\n",
              "</div>"
            ],
            "text/plain": [
              "        case_id  Hospital_code  ... Admission_Deposit   Stay\n",
              "0             1              8  ...            4911.0   0-10\n",
              "1             2              2  ...            5954.0  41-50\n",
              "2             3             10  ...            4745.0  31-40\n",
              "3             4             26  ...            7272.0  41-50\n",
              "4             5             26  ...            5558.0  41-50\n",
              "...         ...            ...  ...               ...    ...\n",
              "318433   318434              6  ...            4144.0  11-20\n",
              "318434   318435             24  ...            6699.0  31-40\n",
              "318435   318436              7  ...            4235.0  11-20\n",
              "318436   318437             11  ...            3761.0  11-20\n",
              "318437   318438             19  ...            4752.0   0-10\n",
              "\n",
              "[318438 rows x 18 columns]"
            ]
          },
          "metadata": {
            "tags": []
          },
          "execution_count": 6
        }
      ]
    },
    {
      "cell_type": "code",
      "metadata": {
        "colab": {
          "base_uri": "https://localhost:8080/",
          "height": 639
        },
        "id": "6okQbU97L3-B",
        "outputId": "b30934ed-a7e5-427e-a75e-446b5aeff6ca"
      },
      "source": [
        "test_data"
      ],
      "execution_count": 7,
      "outputs": [
        {
          "output_type": "execute_result",
          "data": {
            "text/html": [
              "<div>\n",
              "<style scoped>\n",
              "    .dataframe tbody tr th:only-of-type {\n",
              "        vertical-align: middle;\n",
              "    }\n",
              "\n",
              "    .dataframe tbody tr th {\n",
              "        vertical-align: top;\n",
              "    }\n",
              "\n",
              "    .dataframe thead th {\n",
              "        text-align: right;\n",
              "    }\n",
              "</style>\n",
              "<table border=\"1\" class=\"dataframe\">\n",
              "  <thead>\n",
              "    <tr style=\"text-align: right;\">\n",
              "      <th></th>\n",
              "      <th>case_id</th>\n",
              "      <th>Hospital_code</th>\n",
              "      <th>Hospital_type_code</th>\n",
              "      <th>City_Code_Hospital</th>\n",
              "      <th>Hospital_region_code</th>\n",
              "      <th>Available Extra Rooms in Hospital</th>\n",
              "      <th>Department</th>\n",
              "      <th>Ward_Type</th>\n",
              "      <th>Ward_Facility_Code</th>\n",
              "      <th>Bed Grade</th>\n",
              "      <th>patientid</th>\n",
              "      <th>City_Code_Patient</th>\n",
              "      <th>Type of Admission</th>\n",
              "      <th>Severity of Illness</th>\n",
              "      <th>Visitors with Patient</th>\n",
              "      <th>Age</th>\n",
              "      <th>Admission_Deposit</th>\n",
              "    </tr>\n",
              "  </thead>\n",
              "  <tbody>\n",
              "    <tr>\n",
              "      <th>0</th>\n",
              "      <td>318439</td>\n",
              "      <td>21</td>\n",
              "      <td>c</td>\n",
              "      <td>3</td>\n",
              "      <td>Z</td>\n",
              "      <td>3</td>\n",
              "      <td>gynecology</td>\n",
              "      <td>S</td>\n",
              "      <td>A</td>\n",
              "      <td>2.0</td>\n",
              "      <td>17006</td>\n",
              "      <td>2.0</td>\n",
              "      <td>Emergency</td>\n",
              "      <td>Moderate</td>\n",
              "      <td>2</td>\n",
              "      <td>71-80</td>\n",
              "      <td>3095.0</td>\n",
              "    </tr>\n",
              "    <tr>\n",
              "      <th>1</th>\n",
              "      <td>318440</td>\n",
              "      <td>29</td>\n",
              "      <td>a</td>\n",
              "      <td>4</td>\n",
              "      <td>X</td>\n",
              "      <td>2</td>\n",
              "      <td>gynecology</td>\n",
              "      <td>S</td>\n",
              "      <td>F</td>\n",
              "      <td>2.0</td>\n",
              "      <td>17006</td>\n",
              "      <td>2.0</td>\n",
              "      <td>Trauma</td>\n",
              "      <td>Moderate</td>\n",
              "      <td>4</td>\n",
              "      <td>71-80</td>\n",
              "      <td>4018.0</td>\n",
              "    </tr>\n",
              "    <tr>\n",
              "      <th>2</th>\n",
              "      <td>318441</td>\n",
              "      <td>26</td>\n",
              "      <td>b</td>\n",
              "      <td>2</td>\n",
              "      <td>Y</td>\n",
              "      <td>3</td>\n",
              "      <td>gynecology</td>\n",
              "      <td>Q</td>\n",
              "      <td>D</td>\n",
              "      <td>4.0</td>\n",
              "      <td>17006</td>\n",
              "      <td>2.0</td>\n",
              "      <td>Emergency</td>\n",
              "      <td>Moderate</td>\n",
              "      <td>3</td>\n",
              "      <td>71-80</td>\n",
              "      <td>4492.0</td>\n",
              "    </tr>\n",
              "    <tr>\n",
              "      <th>3</th>\n",
              "      <td>318442</td>\n",
              "      <td>6</td>\n",
              "      <td>a</td>\n",
              "      <td>6</td>\n",
              "      <td>X</td>\n",
              "      <td>3</td>\n",
              "      <td>gynecology</td>\n",
              "      <td>Q</td>\n",
              "      <td>F</td>\n",
              "      <td>2.0</td>\n",
              "      <td>17006</td>\n",
              "      <td>2.0</td>\n",
              "      <td>Trauma</td>\n",
              "      <td>Moderate</td>\n",
              "      <td>3</td>\n",
              "      <td>71-80</td>\n",
              "      <td>4173.0</td>\n",
              "    </tr>\n",
              "    <tr>\n",
              "      <th>4</th>\n",
              "      <td>318443</td>\n",
              "      <td>28</td>\n",
              "      <td>b</td>\n",
              "      <td>11</td>\n",
              "      <td>X</td>\n",
              "      <td>2</td>\n",
              "      <td>gynecology</td>\n",
              "      <td>R</td>\n",
              "      <td>F</td>\n",
              "      <td>2.0</td>\n",
              "      <td>17006</td>\n",
              "      <td>2.0</td>\n",
              "      <td>Trauma</td>\n",
              "      <td>Moderate</td>\n",
              "      <td>4</td>\n",
              "      <td>71-80</td>\n",
              "      <td>4161.0</td>\n",
              "    </tr>\n",
              "    <tr>\n",
              "      <th>...</th>\n",
              "      <td>...</td>\n",
              "      <td>...</td>\n",
              "      <td>...</td>\n",
              "      <td>...</td>\n",
              "      <td>...</td>\n",
              "      <td>...</td>\n",
              "      <td>...</td>\n",
              "      <td>...</td>\n",
              "      <td>...</td>\n",
              "      <td>...</td>\n",
              "      <td>...</td>\n",
              "      <td>...</td>\n",
              "      <td>...</td>\n",
              "      <td>...</td>\n",
              "      <td>...</td>\n",
              "      <td>...</td>\n",
              "      <td>...</td>\n",
              "    </tr>\n",
              "    <tr>\n",
              "      <th>137052</th>\n",
              "      <td>455491</td>\n",
              "      <td>11</td>\n",
              "      <td>b</td>\n",
              "      <td>2</td>\n",
              "      <td>Y</td>\n",
              "      <td>4</td>\n",
              "      <td>anesthesia</td>\n",
              "      <td>Q</td>\n",
              "      <td>D</td>\n",
              "      <td>3.0</td>\n",
              "      <td>41160</td>\n",
              "      <td>3.0</td>\n",
              "      <td>Emergency</td>\n",
              "      <td>Minor</td>\n",
              "      <td>4</td>\n",
              "      <td>41-50</td>\n",
              "      <td>6313.0</td>\n",
              "    </tr>\n",
              "    <tr>\n",
              "      <th>137053</th>\n",
              "      <td>455492</td>\n",
              "      <td>25</td>\n",
              "      <td>e</td>\n",
              "      <td>1</td>\n",
              "      <td>X</td>\n",
              "      <td>2</td>\n",
              "      <td>radiotherapy</td>\n",
              "      <td>R</td>\n",
              "      <td>E</td>\n",
              "      <td>4.0</td>\n",
              "      <td>30985</td>\n",
              "      <td>7.0</td>\n",
              "      <td>Emergency</td>\n",
              "      <td>Moderate</td>\n",
              "      <td>2</td>\n",
              "      <td>0-10</td>\n",
              "      <td>3510.0</td>\n",
              "    </tr>\n",
              "    <tr>\n",
              "      <th>137054</th>\n",
              "      <td>455493</td>\n",
              "      <td>30</td>\n",
              "      <td>c</td>\n",
              "      <td>3</td>\n",
              "      <td>Z</td>\n",
              "      <td>2</td>\n",
              "      <td>anesthesia</td>\n",
              "      <td>R</td>\n",
              "      <td>A</td>\n",
              "      <td>4.0</td>\n",
              "      <td>81811</td>\n",
              "      <td>12.0</td>\n",
              "      <td>Urgent</td>\n",
              "      <td>Minor</td>\n",
              "      <td>2</td>\n",
              "      <td>0-10</td>\n",
              "      <td>7190.0</td>\n",
              "    </tr>\n",
              "    <tr>\n",
              "      <th>137055</th>\n",
              "      <td>455494</td>\n",
              "      <td>5</td>\n",
              "      <td>a</td>\n",
              "      <td>1</td>\n",
              "      <td>X</td>\n",
              "      <td>2</td>\n",
              "      <td>anesthesia</td>\n",
              "      <td>R</td>\n",
              "      <td>E</td>\n",
              "      <td>4.0</td>\n",
              "      <td>57021</td>\n",
              "      <td>10.0</td>\n",
              "      <td>Trauma</td>\n",
              "      <td>Minor</td>\n",
              "      <td>2</td>\n",
              "      <td>41-50</td>\n",
              "      <td>5435.0</td>\n",
              "    </tr>\n",
              "    <tr>\n",
              "      <th>137056</th>\n",
              "      <td>455495</td>\n",
              "      <td>6</td>\n",
              "      <td>a</td>\n",
              "      <td>6</td>\n",
              "      <td>X</td>\n",
              "      <td>3</td>\n",
              "      <td>gynecology</td>\n",
              "      <td>Q</td>\n",
              "      <td>F</td>\n",
              "      <td>4.0</td>\n",
              "      <td>126729</td>\n",
              "      <td>3.0</td>\n",
              "      <td>Trauma</td>\n",
              "      <td>Extreme</td>\n",
              "      <td>5</td>\n",
              "      <td>51-60</td>\n",
              "      <td>4702.0</td>\n",
              "    </tr>\n",
              "  </tbody>\n",
              "</table>\n",
              "<p>137057 rows × 17 columns</p>\n",
              "</div>"
            ],
            "text/plain": [
              "        case_id  Hospital_code  ...    Age  Admission_Deposit\n",
              "0        318439             21  ...  71-80             3095.0\n",
              "1        318440             29  ...  71-80             4018.0\n",
              "2        318441             26  ...  71-80             4492.0\n",
              "3        318442              6  ...  71-80             4173.0\n",
              "4        318443             28  ...  71-80             4161.0\n",
              "...         ...            ...  ...    ...                ...\n",
              "137052   455491             11  ...  41-50             6313.0\n",
              "137053   455492             25  ...   0-10             3510.0\n",
              "137054   455493             30  ...   0-10             7190.0\n",
              "137055   455494              5  ...  41-50             5435.0\n",
              "137056   455495              6  ...  51-60             4702.0\n",
              "\n",
              "[137057 rows x 17 columns]"
            ]
          },
          "metadata": {
            "tags": []
          },
          "execution_count": 7
        }
      ]
    },
    {
      "cell_type": "code",
      "metadata": {
        "colab": {
          "base_uri": "https://localhost:8080/"
        },
        "id": "vhr2aBqT3eGP",
        "outputId": "6890ca0f-c04a-4d2d-94cf-f2b79de02060"
      },
      "source": [
        "print(train_data.shape, test_data.shape)"
      ],
      "execution_count": 8,
      "outputs": [
        {
          "output_type": "stream",
          "text": [
            "(318438, 18) (137057, 17)\n"
          ],
          "name": "stdout"
        }
      ]
    },
    {
      "cell_type": "markdown",
      "metadata": {
        "id": "Ohegem0ObmZ9"
      },
      "source": [
        "Correlation Heatmap\n",
        "    "
      ]
    },
    {
      "cell_type": "code",
      "metadata": {
        "colab": {
          "base_uri": "https://localhost:8080/",
          "height": 1000
        },
        "id": "-KWYad1LOEWT",
        "outputId": "bd3929ce-3ec7-4b6d-bb12-f6a3f59e4a9b"
      },
      "source": [
        "corr = train_data.corr()\n",
        "print(corr)\n",
        "plt.figure(figsize=(16, 16))\n",
        "mask = np.triu(np.ones(corr.shape)).astype(np.bool)\n",
        "heatmap = sns.heatmap(corr, mask=mask, vmin=-1, vmax=1, annot=True)"
      ],
      "execution_count": 9,
      "outputs": [
        {
          "output_type": "stream",
          "text": [
            "                                    case_id  ...  Admission_Deposit\n",
            "case_id                            1.000000  ...          -0.045972\n",
            "Hospital_code                     -0.043023  ...           0.045446\n",
            "City_Code_Hospital                -0.011352  ...          -0.034455\n",
            "Available Extra Rooms in Hospital  0.042580  ...          -0.143739\n",
            "Bed Grade                          0.013702  ...           0.073833\n",
            "patientid                         -0.004150  ...          -0.000877\n",
            "City_Code_Patient                  0.065196  ...           0.025837\n",
            "Visitors with Patient              0.001309  ...          -0.150358\n",
            "Admission_Deposit                 -0.045972  ...           1.000000\n",
            "\n",
            "[9 rows x 9 columns]\n"
          ],
          "name": "stdout"
        },
        {
          "output_type": "display_data",
          "data": {
            "image/png": "[encoded data removed]",
            "text/plain": [
              "<Figure size 1152x1152 with 2 Axes>"
            ]
          },
          "metadata": {
            "tags": [],
            "needs_background": "light"
          }
        }
      ]
    },
    {
      "cell_type": "code",
      "metadata": {
        "colab": {
          "base_uri": "https://localhost:8080/",
          "height": 282
        },
        "id": "b08bqxCh5EDj",
        "outputId": "40d3381a-23e5-4a9c-b522-cc3680b1668e"
      },
      "source": [
        "train_data.describe()"
      ],
      "execution_count": 10,
      "outputs": [
        {
          "output_type": "execute_result",
          "data": {
            "text/html": [
              "<div>\n",
              "<style scoped>\n",
              "    .dataframe tbody tr th:only-of-type {\n",
              "        vertical-align: middle;\n",
              "    }\n",
              "\n",
              "    .dataframe tbody tr th {\n",
              "        vertical-align: top;\n",
              "    }\n",
              "\n",
              "    .dataframe thead th {\n",
              "        text-align: right;\n",
              "    }\n",
              "</style>\n",
              "<table border=\"1\" class=\"dataframe\">\n",
              "  <thead>\n",
              "    <tr style=\"text-align: right;\">\n",
              "      <th></th>\n",
              "      <th>case_id</th>\n",
              "      <th>Hospital_code</th>\n",
              "      <th>City_Code_Hospital</th>\n",
              "      <th>Available Extra Rooms in Hospital</th>\n",
              "      <th>Bed Grade</th>\n",
              "      <th>patientid</th>\n",
              "      <th>City_Code_Patient</th>\n",
              "      <th>Visitors with Patient</th>\n",
              "      <th>Admission_Deposit</th>\n",
              "    </tr>\n",
              "  </thead>\n",
              "  <tbody>\n",
              "    <tr>\n",
              "      <th>count</th>\n",
              "      <td>318438.000000</td>\n",
              "      <td>318438.000000</td>\n",
              "      <td>318438.000000</td>\n",
              "      <td>318438.000000</td>\n",
              "      <td>318325.000000</td>\n",
              "      <td>318438.000000</td>\n",
              "      <td>313906.000000</td>\n",
              "      <td>318438.000000</td>\n",
              "      <td>318438.000000</td>\n",
              "    </tr>\n",
              "    <tr>\n",
              "      <th>mean</th>\n",
              "      <td>159219.500000</td>\n",
              "      <td>18.318841</td>\n",
              "      <td>4.771717</td>\n",
              "      <td>3.197627</td>\n",
              "      <td>2.625807</td>\n",
              "      <td>65747.579472</td>\n",
              "      <td>7.251859</td>\n",
              "      <td>3.284099</td>\n",
              "      <td>4880.749392</td>\n",
              "    </tr>\n",
              "    <tr>\n",
              "      <th>std</th>\n",
              "      <td>91925.276847</td>\n",
              "      <td>8.633755</td>\n",
              "      <td>3.102535</td>\n",
              "      <td>1.168171</td>\n",
              "      <td>0.873146</td>\n",
              "      <td>37979.936440</td>\n",
              "      <td>4.745266</td>\n",
              "      <td>1.764061</td>\n",
              "      <td>1086.776254</td>\n",
              "    </tr>\n",
              "    <tr>\n",
              "      <th>min</th>\n",
              "      <td>1.000000</td>\n",
              "      <td>1.000000</td>\n",
              "      <td>1.000000</td>\n",
              "      <td>0.000000</td>\n",
              "      <td>1.000000</td>\n",
              "      <td>1.000000</td>\n",
              "      <td>1.000000</td>\n",
              "      <td>0.000000</td>\n",
              "      <td>1800.000000</td>\n",
              "    </tr>\n",
              "    <tr>\n",
              "      <th>25%</th>\n",
              "      <td>79610.250000</td>\n",
              "      <td>11.000000</td>\n",
              "      <td>2.000000</td>\n",
              "      <td>2.000000</td>\n",
              "      <td>2.000000</td>\n",
              "      <td>32847.000000</td>\n",
              "      <td>4.000000</td>\n",
              "      <td>2.000000</td>\n",
              "      <td>4186.000000</td>\n",
              "    </tr>\n",
              "    <tr>\n",
              "      <th>50%</th>\n",
              "      <td>159219.500000</td>\n",
              "      <td>19.000000</td>\n",
              "      <td>5.000000</td>\n",
              "      <td>3.000000</td>\n",
              "      <td>3.000000</td>\n",
              "      <td>65724.500000</td>\n",
              "      <td>8.000000</td>\n",
              "      <td>3.000000</td>\n",
              "      <td>4741.000000</td>\n",
              "    </tr>\n",
              "    <tr>\n",
              "      <th>75%</th>\n",
              "      <td>238828.750000</td>\n",
              "      <td>26.000000</td>\n",
              "      <td>7.000000</td>\n",
              "      <td>4.000000</td>\n",
              "      <td>3.000000</td>\n",
              "      <td>98470.000000</td>\n",
              "      <td>8.000000</td>\n",
              "      <td>4.000000</td>\n",
              "      <td>5409.000000</td>\n",
              "    </tr>\n",
              "    <tr>\n",
              "      <th>max</th>\n",
              "      <td>318438.000000</td>\n",
              "      <td>32.000000</td>\n",
              "      <td>13.000000</td>\n",
              "      <td>24.000000</td>\n",
              "      <td>4.000000</td>\n",
              "      <td>131624.000000</td>\n",
              "      <td>38.000000</td>\n",
              "      <td>32.000000</td>\n",
              "      <td>11008.000000</td>\n",
              "    </tr>\n",
              "  </tbody>\n",
              "</table>\n",
              "</div>"
            ],
            "text/plain": [
              "             case_id  Hospital_code  ...  Visitors with Patient  Admission_Deposit\n",
              "count  318438.000000  318438.000000  ...          318438.000000      318438.000000\n",
              "mean   159219.500000      18.318841  ...               3.284099        4880.749392\n",
              "std     91925.276847       8.633755  ...               1.764061        1086.776254\n",
              "min         1.000000       1.000000  ...               0.000000        1800.000000\n",
              "25%     79610.250000      11.000000  ...               2.000000        4186.000000\n",
              "50%    159219.500000      19.000000  ...               3.000000        4741.000000\n",
              "75%    238828.750000      26.000000  ...               4.000000        5409.000000\n",
              "max    318438.000000      32.000000  ...              32.000000       11008.000000\n",
              "\n",
              "[8 rows x 9 columns]"
            ]
          },
          "metadata": {
            "tags": []
          },
          "execution_count": 10
        }
      ]
    },
    {
      "cell_type": "code",
      "metadata": {
        "colab": {
          "base_uri": "https://localhost:8080/",
          "height": 566
        },
        "id": "LkFQJv9bK1DJ",
        "outputId": "d6c4d42d-b40d-4727-b8c6-2ee69f3f5fd1"
      },
      "source": [
        "print(train_data['Stay'].value_counts())\n",
        "print(sns.countplot(train_data['Stay']))"
      ],
      "execution_count": 11,
      "outputs": [
        {
          "output_type": "stream",
          "text": [
            "21-30                 87491\n",
            "11-20                 78139\n",
            "31-40                 55159\n",
            "51-60                 35018\n",
            "0-10                  23604\n",
            "41-50                 11743\n",
            "71-80                 10254\n",
            "More than 100 Days     6683\n",
            "81-90                  4838\n",
            "91-100                 2765\n",
            "61-70                  2744\n",
            "Name: Stay, dtype: int64\n"
          ],
          "name": "stdout"
        },
        {
          "output_type": "stream",
          "text": [
            "/usr/local/lib/python3.7/dist-packages/seaborn/_decorators.py:43: FutureWarning: Pass the following variable as a keyword arg: x. From version 0.12, the only valid positional argument will be `data`, and passing other arguments without an explicit keyword will result in an error or misinterpretation.\n",
            "  FutureWarning\n"
          ],
          "name": "stderr"
        },
        {
          "output_type": "stream",
          "text": [
            "AxesSubplot(0.125,0.125;0.775x0.755)\n"
          ],
          "name": "stdout"
        },
        {
          "output_type": "display_data",
          "data": {
            "image/png": "[encoded data removed]",
            "text/plain": [
              "<Figure size 432x288 with 1 Axes>"
            ]
          },
          "metadata": {
            "tags": [],
            "needs_background": "light"
          }
        }
      ]
    },
    {
      "cell_type": "markdown",
      "metadata": {
        "id": "MiFHJh9WUc4O"
      },
      "source": [
        "The Stay class is clearly imbalanced and hence resampling using SMOTE needs to be done"
      ]
    },
    {
      "cell_type": "code",
      "metadata": {
        "colab": {
          "base_uri": "https://localhost:8080/"
        },
        "id": "7JWo_Gqjn-Kk",
        "outputId": "b47f6260-90d7-44aa-e30c-549936dc8078"
      },
      "source": [
        "for c in train_data.columns:\n",
        "    print(\"Count Distribution for Column {}\\n\".format(c))\n",
        "    print(train_data[c].value_counts())"
      ],
      "execution_count": 12,
      "outputs": [
        {
          "output_type": "stream",
          "text": [
            "Count Distribution for Column case_id\n",
            "\n",
            "2047      1\n",
            "107105    1\n",
            "31322     1\n",
            "29275     1\n",
            "19036     1\n",
            "         ..\n",
            "21920     1\n",
            "23969     1\n",
            "17826     1\n",
            "19875     1\n",
            "2049      1\n",
            "Name: case_id, Length: 318438, dtype: int64\n",
            "Count Distribution for Column Hospital_code\n",
            "\n",
            "26    33076\n",
            "23    26566\n",
            "19    21219\n",
            "6     20425\n",
            "11    17328\n",
            "14    17328\n",
            "28    17137\n",
            "27    14244\n",
            "9     11510\n",
            "29    11311\n",
            "12    11297\n",
            "32    10703\n",
            "25     9834\n",
            "10     9435\n",
            "15     9257\n",
            "21     8150\n",
            "24     7992\n",
            "3      7116\n",
            "17     5501\n",
            "5      5261\n",
            "1      5249\n",
            "13     5236\n",
            "2      5102\n",
            "30     5002\n",
            "22     4277\n",
            "31     3967\n",
            "16     3671\n",
            "8      3663\n",
            "18     3630\n",
            "20     1405\n",
            "7      1306\n",
            "4      1240\n",
            "Name: Hospital_code, dtype: int64\n",
            "Count Distribution for Column Hospital_type_code\n",
            "\n",
            "a    143425\n",
            "b     68946\n",
            "c     45928\n",
            "e     24770\n",
            "d     20389\n",
            "f     10703\n",
            "g      4277\n",
            "Name: Hospital_type_code, dtype: int64\n",
            "Count Distribution for Column City_Code_Hospital\n",
            "\n",
            "1     55351\n",
            "2     51809\n",
            "6     46991\n",
            "7     35463\n",
            "3     31569\n",
            "5     31105\n",
            "9     26277\n",
            "11    17137\n",
            "4     13857\n",
            "10     5249\n",
            "13     3630\n",
            "Name: City_Code_Hospital, dtype: int64\n",
            "Count Distribution for Column Hospital_region_code\n",
            "\n",
            "X    133336\n",
            "Y    122428\n",
            "Z     62674\n",
            "Name: Hospital_region_code, dtype: int64\n",
            "Count Distribution for Column Available Extra Rooms in Hospital\n",
            "\n",
            "2     98311\n",
            "4     91709\n",
            "3     91520\n",
            "5     19288\n",
            "6      7786\n",
            "1      5582\n",
            "7      2876\n",
            "8      1027\n",
            "9       218\n",
            "10       67\n",
            "11       17\n",
            "0        15\n",
            "12       13\n",
            "21        3\n",
            "13        2\n",
            "20        2\n",
            "14        1\n",
            "24        1\n",
            "Name: Available Extra Rooms in Hospital, dtype: int64\n",
            "Count Distribution for Column Department\n",
            "\n",
            "gynecology            249486\n",
            "anesthesia             29649\n",
            "radiotherapy           28516\n",
            "TB & Chest disease      9586\n",
            "surgery                 1201\n",
            "Name: Department, dtype: int64\n",
            "Count Distribution for Column Ward_Type\n",
            "\n",
            "R    127947\n",
            "Q    106165\n",
            "S     77794\n",
            "P      5046\n",
            "T      1477\n",
            "U         9\n",
            "Name: Ward_Type, dtype: int64\n",
            "Count Distribution for Column Ward_Facility_Code\n",
            "\n",
            "F    112753\n",
            "E     55351\n",
            "D     51809\n",
            "C     35463\n",
            "B     35156\n",
            "A     27906\n",
            "Name: Ward_Facility_Code, dtype: int64\n",
            "Count Distribution for Column Bed Grade\n",
            "\n",
            "2.0    123671\n",
            "3.0    110583\n",
            "4.0     57566\n",
            "1.0     26505\n",
            "Name: Bed Grade, dtype: int64\n",
            "Count Distribution for Column patientid\n",
            "\n",
            "66714     50\n",
            "91292     43\n",
            "38525     39\n",
            "101359    36\n",
            "33491     34\n",
            "          ..\n",
            "63360      1\n",
            "85687      1\n",
            "89781      1\n",
            "97969      1\n",
            "58524      1\n",
            "Name: patientid, Length: 92017, dtype: int64\n",
            "Count Distribution for Column City_Code_Patient\n",
            "\n",
            "8.0     124011\n",
            "2.0      38869\n",
            "1.0      26377\n",
            "7.0      23807\n",
            "5.0      20079\n",
            "4.0      15380\n",
            "9.0      11795\n",
            "15.0      8950\n",
            "10.0      8174\n",
            "6.0       6005\n",
            "12.0      5647\n",
            "3.0       3772\n",
            "23.0      3698\n",
            "14.0      2927\n",
            "16.0      2254\n",
            "13.0      1625\n",
            "21.0      1602\n",
            "20.0      1409\n",
            "18.0      1404\n",
            "19.0      1028\n",
            "26.0      1023\n",
            "25.0       798\n",
            "27.0       771\n",
            "11.0       658\n",
            "28.0       521\n",
            "22.0       405\n",
            "24.0       360\n",
            "30.0       133\n",
            "29.0        98\n",
            "33.0        78\n",
            "31.0        59\n",
            "37.0        57\n",
            "32.0        52\n",
            "34.0        46\n",
            "35.0        16\n",
            "36.0        12\n",
            "38.0         6\n",
            "Name: City_Code_Patient, dtype: int64\n",
            "Count Distribution for Column Type of Admission\n",
            "\n",
            "Trauma       152261\n",
            "Emergency    117676\n",
            "Urgent        48501\n",
            "Name: Type of Admission, dtype: int64\n",
            "Count Distribution for Column Severity of Illness\n",
            "\n",
            "Moderate    175843\n",
            "Minor        85872\n",
            "Extreme      56723\n",
            "Name: Severity of Illness, dtype: int64\n",
            "Count Distribution for Column Visitors with Patient\n",
            "\n",
            "2     138417\n",
            "4      79225\n",
            "3      59180\n",
            "6      18860\n",
            "5       9219\n",
            "8       4872\n",
            "7       2504\n",
            "9       1358\n",
            "1       1207\n",
            "10      1183\n",
            "12       968\n",
            "11       327\n",
            "16       286\n",
            "14       207\n",
            "15       194\n",
            "13       106\n",
            "24        78\n",
            "20        62\n",
            "18        61\n",
            "0         22\n",
            "17        20\n",
            "22        19\n",
            "19        12\n",
            "25        12\n",
            "21        11\n",
            "23        10\n",
            "30         9\n",
            "32         9\n",
            "Name: Visitors with Patient, dtype: int64\n",
            "Count Distribution for Column Age\n",
            "\n",
            "41-50     63749\n",
            "31-40     63639\n",
            "51-60     48514\n",
            "21-30     40843\n",
            "71-80     35792\n",
            "61-70     33687\n",
            "11-20     16768\n",
            "81-90      7890\n",
            "0-10       6254\n",
            "91-100     1302\n",
            "Name: Age, dtype: int64\n",
            "Count Distribution for Column Admission_Deposit\n",
            "\n",
            "4469.0    390\n",
            "4277.0    377\n",
            "4624.0    350\n",
            "4789.0    302\n",
            "4970.0    286\n",
            "         ... \n",
            "9571.0      1\n",
            "8724.0      1\n",
            "1855.0      1\n",
            "2109.0      1\n",
            "7881.0      1\n",
            "Name: Admission_Deposit, Length: 7300, dtype: int64\n",
            "Count Distribution for Column Stay\n",
            "\n",
            "21-30                 87491\n",
            "11-20                 78139\n",
            "31-40                 55159\n",
            "51-60                 35018\n",
            "0-10                  23604\n",
            "41-50                 11743\n",
            "71-80                 10254\n",
            "More than 100 Days     6683\n",
            "81-90                  4838\n",
            "91-100                 2765\n",
            "61-70                  2744\n",
            "Name: Stay, dtype: int64\n"
          ],
          "name": "stdout"
        }
      ]
    },
    {
      "cell_type": "markdown",
      "metadata": {
        "id": "gVqVxtmBSXSo"
      },
      "source": [
        "## Feature Engineering and beginning the ML Pipeline"
      ]
    },
    {
      "cell_type": "code",
      "metadata": {
        "id": "Lwv3yb3pSWHe"
      },
      "source": [
        "# We will concat both train and test data set\n",
        "train_data['is_train'] = 1\n",
        "test_data['is_train'] = 0\n",
        "\n",
        "#df_Frames = [df_Train,df_Test]\n",
        "total_data = pd.concat([train_data, test_data])"
      ],
      "execution_count": 13,
      "outputs": []
    },
    {
      "cell_type": "markdown",
      "metadata": {
        "id": "Z3s40lC-S2NN"
      },
      "source": [
        "Removing Null Values in Training Dataset"
      ]
    },
    {
      "cell_type": "code",
      "metadata": {
        "colab": {
          "base_uri": "https://localhost:8080/"
        },
        "id": "-VCyEAolS6FH",
        "outputId": "16ea85a2-eb6d-4940-a754-98345815fa62"
      },
      "source": [
        "print(total_data.isnull().sum())"
      ],
      "execution_count": 14,
      "outputs": [
        {
          "output_type": "stream",
          "text": [
            "case_id                                   0\n",
            "Hospital_code                             0\n",
            "Hospital_type_code                        0\n",
            "City_Code_Hospital                        0\n",
            "Hospital_region_code                      0\n",
            "Available Extra Rooms in Hospital         0\n",
            "Department                                0\n",
            "Ward_Type                                 0\n",
            "Ward_Facility_Code                        0\n",
            "Bed Grade                               148\n",
            "patientid                                 0\n",
            "City_Code_Patient                      6689\n",
            "Type of Admission                         0\n",
            "Severity of Illness                       0\n",
            "Visitors with Patient                     0\n",
            "Age                                       0\n",
            "Admission_Deposit                         0\n",
            "Stay                                 137057\n",
            "is_train                                  0\n",
            "dtype: int64\n"
          ],
          "name": "stdout"
        }
      ]
    },
    {
      "cell_type": "code",
      "metadata": {
        "colab": {
          "base_uri": "https://localhost:8080/"
        },
        "id": "qU6gt0BMRg5B",
        "outputId": "2c66fd47-5d57-4e14-b19c-398b65e60874"
      },
      "source": [
        "total_data['Bed Grade'] = total_data['Bed Grade'].fillna(total_data['Bed Grade'].mean())\n",
        "total_data['City_Code_Patient'] = total_data['City_Code_Patient'].fillna(method = 'ffill')\n",
        "print()\n",
        "print(total_data.isnull().sum())"
      ],
      "execution_count": 15,
      "outputs": [
        {
          "output_type": "stream",
          "text": [
            "\n",
            "case_id                                   0\n",
            "Hospital_code                             0\n",
            "Hospital_type_code                        0\n",
            "City_Code_Hospital                        0\n",
            "Hospital_region_code                      0\n",
            "Available Extra Rooms in Hospital         0\n",
            "Department                                0\n",
            "Ward_Type                                 0\n",
            "Ward_Facility_Code                        0\n",
            "Bed Grade                                 0\n",
            "patientid                                 0\n",
            "City_Code_Patient                         0\n",
            "Type of Admission                         0\n",
            "Severity of Illness                       0\n",
            "Visitors with Patient                     0\n",
            "Age                                       0\n",
            "Admission_Deposit                         0\n",
            "Stay                                 137057\n",
            "is_train                                  0\n",
            "dtype: int64\n"
          ],
          "name": "stdout"
        }
      ]
    },
    {
      "cell_type": "markdown",
      "metadata": {
        "id": "7VBATX1SUtzU"
      },
      "source": [
        "Label Encoding "
      ]
    },
    {
      "cell_type": "code",
      "metadata": {
        "colab": {
          "base_uri": "https://localhost:8080/"
        },
        "id": "hX_OORAhUwtG",
        "outputId": "36fd0d30-5645-4b37-beba-54f7dfc7d6bb"
      },
      "source": [
        "train_data.info()"
      ],
      "execution_count": 16,
      "outputs": [
        {
          "output_type": "stream",
          "text": [
            "<class 'pandas.core.frame.DataFrame'>\n",
            "RangeIndex: 318438 entries, 0 to 318437\n",
            "Data columns (total 19 columns):\n",
            " #   Column                             Non-Null Count   Dtype  \n",
            "---  ------                             --------------   -----  \n",
            " 0   case_id                            318438 non-null  int64  \n",
            " 1   Hospital_code                      318438 non-null  int64  \n",
            " 2   Hospital_type_code                 318438 non-null  object \n",
            " 3   City_Code_Hospital                 318438 non-null  int64  \n",
            " 4   Hospital_region_code               318438 non-null  object \n",
            " 5   Available Extra Rooms in Hospital  318438 non-null  int64  \n",
            " 6   Department                         318438 non-null  object \n",
            " 7   Ward_Type                          318438 non-null  object \n",
            " 8   Ward_Facility_Code                 318438 non-null  object \n",
            " 9   Bed Grade                          318325 non-null  float64\n",
            " 10  patientid                          318438 non-null  int64  \n",
            " 11  City_Code_Patient                  313906 non-null  float64\n",
            " 12  Type of Admission                  318438 non-null  object \n",
            " 13  Severity of Illness                318438 non-null  object \n",
            " 14  Visitors with Patient              318438 non-null  int64  \n",
            " 15  Age                                318438 non-null  object \n",
            " 16  Admission_Deposit                  318438 non-null  float64\n",
            " 17  Stay                               318438 non-null  object \n",
            " 18  is_train                           318438 non-null  int64  \n",
            "dtypes: float64(3), int64(7), object(9)\n",
            "memory usage: 46.2+ MB\n"
          ],
          "name": "stdout"
        }
      ]
    },
    {
      "cell_type": "code",
      "metadata": {
        "id": "4Eeo_yOmTw8I"
      },
      "source": [
        "from sklearn.preprocessing import LabelEncoder\n",
        "le = LabelEncoder()\n",
        "\n",
        "total_data['Hospital_code'] = le.fit_transform(total_data['Hospital_code'])\n",
        "total_data['Hospital_type_code'] = le.fit_transform(total_data['Hospital_type_code'])\n",
        "# total_data['City_Code_Hospital'] = le.fit_transform(total_data['City_Code_Hospital'])\n",
        "total_data['Hospital_region_code'] = le.fit_transform(total_data['Hospital_region_code'])\n",
        "# total_data['Available Extra Rooms in Hospital'] = le.fit_transform(total_data['Available Extra Rooms in Hospital'])\n",
        "total_data['Department'] = le.fit_transform(total_data['Department'])\n",
        "total_data['Ward_Type'] = le.fit_transform(total_data['Ward_Type'])\n",
        "total_data['Ward_Facility_Code'] = le.fit_transform(total_data['Ward_Facility_Code'])\n",
        "total_data['Bed Grade'] = le.fit_transform(total_data['Bed Grade'])\n",
        "#total_data['patientid'] = le.fit_transform(total_data['patientid'])\n",
        "total_data['City_Code_Patient'] = le.fit_transform(total_data['City_Code_Patient'])\n",
        "total_data['Type of Admission'] = le.fit_transform(total_data['Type of Admission'])\n",
        "total_data['Severity of Illness'] = le.fit_transform(total_data['Severity of Illness'])\n",
        "total_data['Visitors with Patient'] = le.fit_transform(total_data['Visitors with Patient'])\n",
        "total_data['Age'] = le.fit_transform(total_data['Age'])"
      ],
      "execution_count": 17,
      "outputs": []
    },
    {
      "cell_type": "markdown",
      "metadata": {
        "id": "Gp28SyOeKffK"
      },
      "source": [
        "We need to encode columns : \n",
        "\n",
        "*   Hospital_type_code  \n",
        "*   Hospital_region_code  \n",
        "*   Department  \n",
        "*   Ward_Facility_Code     \n",
        "*   Bed Grade                          \n",
        "*   Type of Admission \n",
        "*   Severity of Illness \n",
        "*   Age \n",
        "*   Stay\n",
        "\n"
      ]
    },
    {
      "cell_type": "markdown",
      "metadata": {
        "id": "nxMMzs3hXNqa"
      },
      "source": [
        "Unmerge the total_data"
      ]
    },
    {
      "cell_type": "code",
      "metadata": {
        "id": "nGL_vTiKMn4e"
      },
      "source": [
        "train_data_final = total_data[total_data['is_train'] == 1]\n",
        "test_data_final = total_data[total_data['is_train'] == 0]"
      ],
      "execution_count": 18,
      "outputs": []
    },
    {
      "cell_type": "markdown",
      "metadata": {
        "id": "NJELXcaQbP1Q"
      },
      "source": [
        "# Model Evaluation"
      ]
    },
    {
      "cell_type": "code",
      "metadata": {
        "id": "9Dsl_8boXRNX"
      },
      "source": [
        "X = train_data_final\n",
        "X = X.drop(['case_id','is_train', 'Stay'], axis=1)\n",
        "\n",
        "y = train_data_final['Stay']\n",
        "\n",
        "X_pred = test_data_final\n",
        "X_pred = X_pred.drop(['case_id','is_train', 'Stay'], axis=1)"
      ],
      "execution_count": 19,
      "outputs": []
    },
    {
      "cell_type": "code",
      "metadata": {
        "id": "6pVfXHUJfynk"
      },
      "source": [
        "from sklearn.model_selection import train_test_split\n",
        "X_train, X_valid, y_train, y_valid = train_test_split(X, y, test_size=0.20)"
      ],
      "execution_count": 20,
      "outputs": []
    },
    {
      "cell_type": "markdown",
      "metadata": {
        "id": "bEjJHa9HjpeA"
      },
      "source": [
        "## LGBMClassifier"
      ]
    },
    {
      "cell_type": "code",
      "metadata": {
        "colab": {
          "base_uri": "https://localhost:8080/"
        },
        "id": "DkP2mtMqY6BR",
        "outputId": "abdb9b81-33b8-4888-9347-bf8364ed0b65"
      },
      "source": [
        "from sklearn import metrics\n",
        "from sklearn.model_selection import cross_val_score\n",
        "\n",
        "import lightgbm as lgb\n",
        "lgb_cl = lgb.LGBMClassifier(boosting_type='gbdt', learning_rate=0.1, n_estimators=500, importance_type='gain', objective='multiclass', num_boost_round=100,\n",
        "                            num_leaves=300, max_depth=5, \n",
        "                            max_bin=60, bagging_faction=0.9, feature_fraction=0.9, subsample_freq=2, scale_pos_weight=2.5, \n",
        "                            random_state=1994, n_jobs=-1, silent=False)\n",
        "\n",
        "lgb_cl.fit(X_train, np.ravel(y_train))\n",
        "y_pred = lgb_cl.predict(X_valid)\n",
        "print(\"Validation accuracy of the model: \", metrics.accuracy_score(y_valid, y_pred))\n",
        "# cv_scores = cross_val_score(lgb_cl, X, y, cv=5)\n",
        "# print(\"Mean Cross Validated accuracy of the model: \",np.mean(cv_scores))"
      ],
      "execution_count": 21,
      "outputs": [
        {
          "output_type": "stream",
          "text": [
            "/usr/local/lib/python3.7/dist-packages/lightgbm/engine.py:118: UserWarning: Found `num_boost_round` in params. Will use it instead of argument\n",
            "  warnings.warn(\"Found `{}` in params. Will use it instead of argument\".format(alias))\n"
          ],
          "name": "stderr"
        },
        {
          "output_type": "stream",
          "text": [
            "Validation accuracy of the model:  0.4200948373319935\n"
          ],
          "name": "stdout"
        }
      ]
    },
    {
      "cell_type": "markdown",
      "metadata": {
        "id": "XE35ac59oty1"
      },
      "source": [
        "## Random Forest Classifier"
      ]
    },
    {
      "cell_type": "code",
      "metadata": {
        "id": "gLDnbjOmcP26"
      },
      "source": [
        "# from sklearn.ensemble import RandomForestClassifier\n",
        "# rfc = RandomForestClassifier(n_estimators = 200)\n",
        "# print(rfc.fit(X_train, np.ravel(y_train)))\n",
        "# y_pred = rfc.predict(X_valid)\n",
        "# print(\"Validation accuracy of the model: \", metrics.accuracy_score(y_valid, y_pred))\n",
        "# cv_scores = cross_val_score(rfc, X, y, cv=5)\n",
        "# print(\"Mean Cross Validated accuracy of the model: \",np.mean(cv_scores))"
      ],
      "execution_count": null,
      "outputs": []
    },
    {
      "cell_type": "markdown",
      "metadata": {
        "id": "5XdaKfpbo1F2"
      },
      "source": [
        "## Submission"
      ]
    },
    {
      "cell_type": "code",
      "metadata": {
        "id": "8Kn0XkXnZyrO"
      },
      "source": [
        "y_pred = lgb_cl.predict(X_pred)\n",
        "submission_df = pd.DataFrame({'case_id':test_data_final['case_id'], 'Stay':y_pred})\n",
        "submission_df.to_csv('submission.csv', index=False)"
      ],
      "execution_count": 23,
      "outputs": []
    },
    {
      "cell_type": "code",
      "metadata": {
        "id": "GkEdVENpwO7g"
      },
      "source": [
        ""
      ],
      "execution_count": null,
      "outputs": []
    }
  ]
}